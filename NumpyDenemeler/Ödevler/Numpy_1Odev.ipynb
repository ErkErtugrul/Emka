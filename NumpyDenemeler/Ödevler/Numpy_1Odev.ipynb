{
  "nbformat": 4,
  "nbformat_minor": 0,
  "metadata": {
    "colab": {
      "provenance": []
    },
    "kernelspec": {
      "name": "python3",
      "display_name": "Python 3"
    },
    "language_info": {
      "name": "python"
    }
  },
  "cells": [
    {
      "cell_type": "code",
      "source": [
        "import numpy as np"
      ],
      "metadata": {
        "id": "rlV3K0pQGxA2"
      },
      "execution_count": null,
      "outputs": []
    },
    {
      "cell_type": "markdown",
      "source": [
        "1) Manuel değerleri el ile girerek 3 boyutlu bir array oluşturup bir değişkene atayın. Ardından 3 boyutlu olup olmadığına bakmak için dimension'ını kontrol edin\n"
      ],
      "metadata": {
        "id": "eLtrou3hEBq2"
      }
    },
    {
      "cell_type": "code",
      "execution_count": null,
      "metadata": {
        "colab": {
          "base_uri": "https://localhost:8080/"
        },
        "id": "uL868u6nD3Hd",
        "outputId": "8c1ceb92-ded0-41c1-afdb-1ade8196a032"
      },
      "outputs": [
        {
          "output_type": "execute_result",
          "data": {
            "text/plain": [
              "3"
            ]
          },
          "metadata": {},
          "execution_count": 73
        }
      ],
      "source": [
        "arr1 = np.array([[[23,67,41],[78,92,38],[51,43,24]]])\n",
        "arr1.ndim"
      ]
    },
    {
      "cell_type": "markdown",
      "source": [
        "2) 34, 40, 46, 52... 112 şeklinde devam eden 1 boyutlu bir array oluşturun.\n"
      ],
      "metadata": {
        "id": "MV-8TiquEEyl"
      }
    },
    {
      "cell_type": "code",
      "source": [
        "np.arange(34,113,6)"
      ],
      "metadata": {
        "id": "qA8C1gaeEy6V",
        "colab": {
          "base_uri": "https://localhost:8080/"
        },
        "outputId": "23df58d8-ef2b-43f9-f70d-3126f2c69ccd"
      },
      "execution_count": null,
      "outputs": [
        {
          "output_type": "execute_result",
          "data": {
            "text/plain": [
              "array([ 34,  40,  46,  52,  58,  64,  70,  76,  82,  88,  94, 100, 106,\n",
              "       112])"
            ]
          },
          "metadata": {},
          "execution_count": 3
        }
      ]
    },
    {
      "cell_type": "markdown",
      "source": [
        "3) 50-500 arasında lineer artış gösteren 91 tane tam sayıdan oluşan bir array oluşturun.(dtype'ı int olsun)\n"
      ],
      "metadata": {
        "id": "68Kb33YmEFAm"
      }
    },
    {
      "cell_type": "code",
      "source": [
        "np.linspace(50,500,91, dtype = int)"
      ],
      "metadata": {
        "id": "269yEiwCEzMe",
        "colab": {
          "base_uri": "https://localhost:8080/"
        },
        "outputId": "d3b1ab11-5cb3-42af-a194-40266f7fbcf8"
      },
      "execution_count": null,
      "outputs": [
        {
          "output_type": "execute_result",
          "data": {
            "text/plain": [
              "array([ 50,  55,  60,  65,  70,  75,  80,  85,  90,  95, 100, 105, 110,\n",
              "       115, 120, 125, 130, 135, 140, 145, 150, 155, 160, 165, 170, 175,\n",
              "       180, 185, 190, 195, 200, 205, 210, 215, 220, 225, 230, 235, 240,\n",
              "       245, 250, 255, 260, 265, 270, 275, 280, 285, 290, 295, 300, 305,\n",
              "       310, 315, 320, 325, 330, 335, 340, 345, 350, 355, 360, 365, 370,\n",
              "       375, 380, 385, 390, 395, 400, 405, 410, 415, 420, 425, 430, 435,\n",
              "       440, 445, 450, 455, 460, 465, 470, 475, 480, 485, 490, 495, 500])"
            ]
          },
          "metadata": {},
          "execution_count": 7
        }
      ]
    },
    {
      "cell_type": "markdown",
      "source": [
        "4) 100(10**2) ile 10000(10**5) arasında logaritmik artış gösteren 8 sayıdan oluşan bir array oluşturun.\n"
      ],
      "metadata": {
        "id": "k1CWNn8CEFPe"
      }
    },
    {
      "cell_type": "code",
      "source": [
        "np.logspace(102,105,8)"
      ],
      "metadata": {
        "id": "l1yfN1v_EzNr",
        "colab": {
          "base_uri": "https://localhost:8080/"
        },
        "outputId": "9bb00b09-1cbd-46ce-ca13-7956c4a402c4"
      },
      "execution_count": null,
      "outputs": [
        {
          "output_type": "execute_result",
          "data": {
            "text/plain": [
              "array([1.00000000e+102, 2.68269580e+102, 7.19685673e+102, 1.93069773e+103,\n",
              "       5.17947468e+103, 1.38949549e+104, 3.72759372e+104, 1.00000000e+105])"
            ]
          },
          "metadata": {},
          "execution_count": 6
        }
      ]
    },
    {
      "cell_type": "markdown",
      "source": [
        "5) 0-8 tam arasındaki ardışık tam sayılardan oluşan(0 ve 8 dahil toplam 9 değer) 3x3 shape'inde bir matris oluşturun.\n"
      ],
      "metadata": {
        "id": "vJeW2nL5EFV-"
      }
    },
    {
      "cell_type": "code",
      "source": [
        "result = np.arange(0,9).reshape(3,3)"
      ],
      "metadata": {
        "id": "9Dkazc9GEzZF"
      },
      "execution_count": null,
      "outputs": []
    },
    {
      "cell_type": "markdown",
      "source": [
        "6) 6x6 formatında bir sıfır matrisi oluşturun. (dtype'ı int olsun)\n",
        "\n"
      ],
      "metadata": {
        "id": "m0DKlrWiEFbl"
      }
    },
    {
      "cell_type": "code",
      "source": [
        "np.zeros((6,6),dtype = int)"
      ],
      "metadata": {
        "id": "P8S16uz3EzcH",
        "colab": {
          "base_uri": "https://localhost:8080/"
        },
        "outputId": "22145e47-5096-44a6-81fb-e1bd34970450"
      },
      "execution_count": null,
      "outputs": [
        {
          "output_type": "execute_result",
          "data": {
            "text/plain": [
              "array([[0, 0, 0, 0, 0, 0],\n",
              "       [0, 0, 0, 0, 0, 0],\n",
              "       [0, 0, 0, 0, 0, 0],\n",
              "       [0, 0, 0, 0, 0, 0],\n",
              "       [0, 0, 0, 0, 0, 0],\n",
              "       [0, 0, 0, 0, 0, 0]])"
            ]
          },
          "metadata": {},
          "execution_count": 8
        }
      ]
    },
    {
      "cell_type": "markdown",
      "source": [
        "7) 4x4 formatında bir bir matrisi oluşturun. (dtype'ı int olsun)\n",
        "\n"
      ],
      "metadata": {
        "id": "mTue_754EFes"
      }
    },
    {
      "cell_type": "code",
      "source": [
        "np.ones((4,4)).astype(int)"
      ],
      "metadata": {
        "id": "r4IjO5cBEzfQ",
        "colab": {
          "base_uri": "https://localhost:8080/"
        },
        "outputId": "ad5fc0ef-8960-4aa8-e832-43c3b523e7c0"
      },
      "execution_count": null,
      "outputs": [
        {
          "output_type": "execute_result",
          "data": {
            "text/plain": [
              "array([[1, 1, 1, 1],\n",
              "       [1, 1, 1, 1],\n",
              "       [1, 1, 1, 1],\n",
              "       [1, 1, 1, 1]])"
            ]
          },
          "metadata": {},
          "execution_count": 64
        }
      ]
    },
    {
      "cell_type": "markdown",
      "source": [
        "8) 8x8 formatında bir birim matris oluşturun. (Sadece sol köşegeni 1 geri kalan değerleri 0 olan matris'e birim matris deniyor.) (dtype'ı int olsun)\n"
      ],
      "metadata": {
        "id": "hjGcmo7fEmSv"
      }
    },
    {
      "cell_type": "code",
      "source": [
        "np.eye(8,8,0,int)"
      ],
      "metadata": {
        "id": "87g5-xFRFCcb",
        "colab": {
          "base_uri": "https://localhost:8080/"
        },
        "outputId": "fe84b0e8-886e-47da-b3de-4b82c7f35593"
      },
      "execution_count": null,
      "outputs": [
        {
          "output_type": "execute_result",
          "data": {
            "text/plain": [
              "array([[1, 0, 0, 0, 0, 0, 0, 0],\n",
              "       [0, 1, 0, 0, 0, 0, 0, 0],\n",
              "       [0, 0, 1, 0, 0, 0, 0, 0],\n",
              "       [0, 0, 0, 1, 0, 0, 0, 0],\n",
              "       [0, 0, 0, 0, 1, 0, 0, 0],\n",
              "       [0, 0, 0, 0, 0, 1, 0, 0],\n",
              "       [0, 0, 0, 0, 0, 0, 1, 0],\n",
              "       [0, 0, 0, 0, 0, 0, 0, 1]])"
            ]
          },
          "metadata": {},
          "execution_count": 18
        }
      ]
    },
    {
      "cell_type": "markdown",
      "source": [
        "9) 5x5 formatında bir köşegen matrisi oluşturun (Sadece sol üstten sağ alta doğru olan köşegendeki değerleri 3 olsun diğer bütün değerleri 0) (Bunu henüz görmediniz ama birim matrise benziyor, sadece köşegen değerleri 1 değil 3 olacak. Bir şeyler düşünün)\n"
      ],
      "metadata": {
        "id": "r5EnVc1lEmfe"
      }
    },
    {
      "cell_type": "code",
      "source": [
        "np.eye(5,5) * 3\n"
      ],
      "metadata": {
        "id": "AMRE_QSzFCf7",
        "colab": {
          "base_uri": "https://localhost:8080/"
        },
        "outputId": "4b09d4b4-c2a7-41e7-b0f2-1e273dfd3f3c"
      },
      "execution_count": null,
      "outputs": [
        {
          "output_type": "execute_result",
          "data": {
            "text/plain": [
              "array([[3., 0., 0., 0., 0.],\n",
              "       [0., 3., 0., 0., 0.],\n",
              "       [0., 0., 3., 0., 0.],\n",
              "       [0., 0., 0., 3., 0.],\n",
              "       [0., 0., 0., 0., 3.]])"
            ]
          },
          "metadata": {},
          "execution_count": 61
        }
      ]
    },
    {
      "cell_type": "markdown",
      "source": [
        "10) np.random modülünden uygun fonksiyonu kullanarak 0-1 arasında toplam 6 tane değerden oluşan 1 boyutlu bir array oluşturun.\n"
      ],
      "metadata": {
        "id": "OhL5g-_nEml2"
      }
    },
    {
      "cell_type": "code",
      "source": [
        "np.random.rand(6)"
      ],
      "metadata": {
        "id": "v45L3jzfFCjj",
        "colab": {
          "base_uri": "https://localhost:8080/"
        },
        "outputId": "5a2eaf36-b410-40d9-c4a3-ef4f3d65ff22"
      },
      "execution_count": null,
      "outputs": [
        {
          "output_type": "execute_result",
          "data": {
            "text/plain": [
              "array([0.1867986 , 0.51579089, 0.94018815, 0.52974365, 0.464391  ,\n",
              "       0.96460126])"
            ]
          },
          "metadata": {},
          "execution_count": 19
        }
      ]
    },
    {
      "cell_type": "markdown",
      "source": [
        "11) np.random modülünden uygun fonksiyonu kullanarak 50-100 arasındaki(50 ve 100 dahil) tam sayılardan 10 tanesiyle oluşan (5,2) shape'inde bir array oluşturun. Ardından bu arrayin shape'ini kontrol edin.\n"
      ],
      "metadata": {
        "id": "X_wTp488EmtU"
      }
    },
    {
      "cell_type": "code",
      "source": [
        "arr = np.random.randint(50,101,10).reshape(5,2)\n",
        "print(arr)\n",
        "print(f\"Array boyutu = {arr.ndim}\")"
      ],
      "metadata": {
        "id": "TOkxi3qQFFzT",
        "colab": {
          "base_uri": "https://localhost:8080/"
        },
        "outputId": "defba06c-4749-41f7-8872-033528d88b43"
      },
      "execution_count": null,
      "outputs": [
        {
          "output_type": "stream",
          "name": "stdout",
          "text": [
            "[[85 59]\n",
            " [86 93]\n",
            " [60 87]\n",
            " [59 58]\n",
            " [68 53]]\n",
            "Array boyutu = 2\n"
          ]
        }
      ]
    },
    {
      "cell_type": "markdown",
      "source": [
        "12) np.random modülünden uygun fonksiyonu kullanarak 100-1000(1000 dahil değil) arasındaki tam sayılardan rastgele 50 tanesinden oluşan (2,5,5) shape'inde 3 boyutlu bir array oluşturun. Ardından bu array'in dimension'ını(boyutunu) ve shape'ini kontrol edin.\n"
      ],
      "metadata": {
        "id": "SC9ZLPKXEFhc"
      }
    },
    {
      "cell_type": "code",
      "source": [
        "np.random.randint(100,1000,50).reshape(2,5,5)"
      ],
      "metadata": {
        "id": "4mRjdWH-FF8U",
        "colab": {
          "base_uri": "https://localhost:8080/"
        },
        "outputId": "3a1135cd-6f4d-443b-9568-164fcbaea695"
      },
      "execution_count": null,
      "outputs": [
        {
          "output_type": "execute_result",
          "data": {
            "text/plain": [
              "array([[[839, 620, 215, 466, 381],\n",
              "        [988, 343, 615, 265, 686],\n",
              "        [270, 519, 732, 627, 939],\n",
              "        [215, 630, 270, 234, 203],\n",
              "        [130, 250, 510, 260, 301]],\n",
              "\n",
              "       [[157, 467, 942, 565, 663],\n",
              "        [622, 866, 657, 625, 130],\n",
              "        [883, 573, 316, 726, 483],\n",
              "        [470, 847, 612, 358, 659],\n",
              "        [200, 637, 760, 990, 533]]])"
            ]
          },
          "metadata": {},
          "execution_count": 29
        }
      ]
    },
    {
      "cell_type": "markdown",
      "source": [
        "13) np.random modülünden uygun fonksiyonu kullanarak 0-100(0 ve 100 dahil) arasındaki tam sayılardan 10 tane seçerek bir array oluşturun. Bu array'in maximum, mininmum değerlerine ve bu değerlerin indexlerine bakın.\n"
      ],
      "metadata": {
        "id": "AiiXjxVDEtl2"
      }
    },
    {
      "cell_type": "code",
      "source": [
        "randarr = np.random.randint(0,101,10)\n",
        "print(randarr)\n",
        "print(f\"Max: {randarr.max()} , Index : {randarr.argmax()}\")\n",
        "print(f\"Min: {randarr.min()} , Index : {randarr.argmin()}\")"
      ],
      "metadata": {
        "id": "Lytw3a5mFHFT",
        "colab": {
          "base_uri": "https://localhost:8080/"
        },
        "outputId": "fa97f92b-111d-4424-8c39-74d25d10d81e"
      },
      "execution_count": null,
      "outputs": [
        {
          "output_type": "stream",
          "name": "stdout",
          "text": [
            "[31 52 33 73 46 10 69 38 77 59]\n",
            "Max: 77 , Index : 8\n",
            "Min: 10 , Index : 5\n"
          ]
        }
      ]
    },
    {
      "cell_type": "markdown",
      "source": [
        "14) np.random modülünden uygun fonksiyonu kullanarak 300-500(300 ve 500 dahil) arasındaki tam sayılardan 20 tane seçerek (2,2,5) shape'inde 3 boyutlu bir array oluşturun. Ardından bu array'in içindeki 20 tam sayı arasından maximum ve minimum değerleri manuel olarak tespit edin ve indexleme yaparak çekmeye çalışın.\n"
      ],
      "metadata": {
        "id": "0jFt1ZPgEtou"
      }
    },
    {
      "cell_type": "code",
      "source": [
        "manrandarr = np.random.randint(300,500,20).reshape(2,2,5)\n",
        "manrandarr"
      ],
      "metadata": {
        "id": "eKHz6ztNFHa7",
        "colab": {
          "base_uri": "https://localhost:8080/"
        },
        "outputId": "2955006b-fcfa-47f5-fc9d-2c5ae08246b3"
      },
      "execution_count": null,
      "outputs": [
        {
          "output_type": "execute_result",
          "data": {
            "text/plain": [
              "array([[[362, 469, 405, 404, 325],\n",
              "        [394, 421, 407, 499, 400]],\n",
              "\n",
              "       [[453, 330, 321, 497, 470],\n",
              "        [376, 321, 471, 444, 480]]])"
            ]
          },
          "metadata": {},
          "execution_count": 38
        }
      ]
    },
    {
      "cell_type": "code",
      "source": [
        "#Max\n",
        "manrandarr[0][1][3]"
      ],
      "metadata": {
        "colab": {
          "base_uri": "https://localhost:8080/"
        },
        "id": "T-jnBqHkSLki",
        "outputId": "cef36fdc-6083-4124-f7c5-2f289afea84b"
      },
      "execution_count": null,
      "outputs": [
        {
          "output_type": "execute_result",
          "data": {
            "text/plain": [
              "499"
            ]
          },
          "metadata": {},
          "execution_count": 42
        }
      ]
    },
    {
      "cell_type": "code",
      "source": [
        "#Min\n",
        "manrandarr[1][0][2]"
      ],
      "metadata": {
        "colab": {
          "base_uri": "https://localhost:8080/"
        },
        "id": "9u3hm3uaScgF",
        "outputId": "b198a1de-6889-4b87-ce2d-f095de2a0439"
      },
      "execution_count": null,
      "outputs": [
        {
          "output_type": "execute_result",
          "data": {
            "text/plain": [
              "321"
            ]
          },
          "metadata": {},
          "execution_count": 44
        }
      ]
    },
    {
      "cell_type": "markdown",
      "source": [
        "15) 0-50(50 dahil) arasındaki ardışık tam sayılardan oluşan bir array oluşturun. Ardından bu arrayin 20. ve 35. indexleri arasındaki değerleri 500'e eşitleyin ve yeni oluşan array'i ekrana yazdırarak broadcasting işleminin yapılıp yapılmadığını test edin.\n"
      ],
      "metadata": {
        "id": "rgv6-PK-Etz1"
      }
    },
    {
      "cell_type": "code",
      "source": [
        "enarr = np.arange(0,51)\n",
        "print(enarr)\n",
        "enarr[20] = 500\n",
        "enarr[35] = 500\n",
        "print(enarr)"
      ],
      "metadata": {
        "id": "sDTuk4t5FH3s",
        "colab": {
          "base_uri": "https://localhost:8080/"
        },
        "outputId": "7ad8f948-3ff8-43f6-d3e6-e16763a1795b"
      },
      "execution_count": null,
      "outputs": [
        {
          "output_type": "stream",
          "name": "stdout",
          "text": [
            "[ 0  1  2  3  4  5  6  7  8  9 10 11 12 13 14 15 16 17 18 19 20 21 22 23\n",
            " 24 25 26 27 28 29 30 31 32 33 34 35 36 37 38 39 40 41 42 43 44 45 46 47\n",
            " 48 49 50]\n",
            "[  0   1   2   3   4   5   6   7   8   9  10  11  12  13  14  15  16  17\n",
            "  18  19 500  21  22  23  24  25  26  27  28  29  30  31  32  33  34 500\n",
            "  36  37  38  39  40  41  42  43  44  45  46  47  48  49  50]\n"
          ]
        }
      ]
    }
  ]
}
