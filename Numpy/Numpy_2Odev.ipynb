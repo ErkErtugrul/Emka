{
  "nbformat": 4,
  "nbformat_minor": 0,
  "metadata": {
    "colab": {
      "provenance": []
    },
    "kernelspec": {
      "name": "python3",
      "display_name": "Python 3"
    },
    "language_info": {
      "name": "python"
    }
  },
  "cells": [
    {
      "cell_type": "code",
      "execution_count": 2,
      "metadata": {
        "id": "jKecD6BUooTW"
      },
      "outputs": [],
      "source": [
        "import numpy as np"
      ]
    },
    {
      "cell_type": "markdown",
      "source": [
        "1) 0-29 arası(29 dahil, toplam 30 tam sayı) tam sayılardan oluşan bir boyutlu bir array oluşturun ardından bu array'in shape'ini (15,2) şeklinde güncelleyip 2 boyutlu hale getirin.\n"
      ],
      "metadata": {
        "id": "fFA8S9Kno8KB"
      }
    },
    {
      "cell_type": "code",
      "source": [
        "np.arange(0,30).reshape(15,2)"
      ],
      "metadata": {
        "colab": {
          "base_uri": "https://localhost:8080/"
        },
        "id": "12YKO70Co9Ap",
        "outputId": "7b004b1e-7266-42f2-a8d2-e8b342b284e8"
      },
      "execution_count": null,
      "outputs": [
        {
          "output_type": "execute_result",
          "data": {
            "text/plain": [
              "array([[ 0,  1],\n",
              "       [ 2,  3],\n",
              "       [ 4,  5],\n",
              "       [ 6,  7],\n",
              "       [ 8,  9],\n",
              "       [10, 11],\n",
              "       [12, 13],\n",
              "       [14, 15],\n",
              "       [16, 17],\n",
              "       [18, 19],\n",
              "       [20, 21],\n",
              "       [22, 23],\n",
              "       [24, 25],\n",
              "       [26, 27],\n",
              "       [28, 29]])"
            ]
          },
          "metadata": {},
          "execution_count": 2
        }
      ]
    },
    {
      "cell_type": "markdown",
      "source": [
        "2) 60 adet rastgele tam sayı verilerinden oluşan bir boyutlu bir array oluşturun. Devamında bu array'i istediğiniz shapelerde 3 boyutlu hale getirin ve son durumda oluşan array'in boyutunu ve shape'ini kontrol edin.\n"
      ],
      "metadata": {
        "id": "JNAEGPk8o9Xa"
      }
    },
    {
      "cell_type": "code",
      "source": [
        "arr21 = np.random.randint(0,101,60).reshape(3,4,5)\n",
        "print(arr21)\n",
        "print(f\"Boyutu: {arr21.ndim}\")"
      ],
      "metadata": {
        "colab": {
          "base_uri": "https://localhost:8080/"
        },
        "id": "qX90UX7Oo-v5",
        "outputId": "1fb389d4-5c04-448b-9c89-45a9e0aa1653"
      },
      "execution_count": 7,
      "outputs": [
        {
          "output_type": "stream",
          "name": "stdout",
          "text": [
            "[[[ 33  47  82  14  85]\n",
            "  [ 11  30  51  29  60]\n",
            "  [ 35  14  79  18  48]\n",
            "  [ 74  22  15  33  34]]\n",
            "\n",
            " [[ 20  44  47  73   5]\n",
            "  [  1  65  40  43  36]\n",
            "  [ 92  12  49  87  75]\n",
            "  [ 82  34  80   1   9]]\n",
            "\n",
            " [[ 19 100  61  13  77]\n",
            "  [ 40  21  69  47  64]\n",
            "  [ 88  14  83  49  30]\n",
            "  [ 77   7   9  94  74]]]\n",
            "Boyutu: 3\n"
          ]
        }
      ]
    },
    {
      "cell_type": "markdown",
      "source": [
        "3) 20 elemanlı ve sadece rakamlardan oluşan iki boyutlu bir array oluşturun. Ardından bu array'i düzleştirin ve tek boyutlu hale getirin ve son durumda oluşan array'in boyutunu ve shape'ini kontrol edin.\n"
      ],
      "metadata": {
        "id": "GKtmpqOzo_Dg"
      }
    },
    {
      "cell_type": "code",
      "source": [
        "arr31 = np.arange(20)\n",
        "arr31.reshape(-1)\n",
        "print(f\"Boyutu: {arr31.ndim} , Shape'i: {arr31.shape}\")"
      ],
      "metadata": {
        "colab": {
          "base_uri": "https://localhost:8080/"
        },
        "id": "V9la_POVpAeg",
        "outputId": "4b7ddc90-b1bf-4252-f6d1-284ceb75620b"
      },
      "execution_count": 12,
      "outputs": [
        {
          "output_type": "stream",
          "name": "stdout",
          "text": [
            "Boyutu: 1 , Shape'i: (20,)\n"
          ]
        }
      ]
    },
    {
      "cell_type": "markdown",
      "source": [
        "4) İstediğiniz herhangi elemanlardan oluşan 2 Boyutlu bir array oluşturun. Oluşturduğunuz bu 2 boyutlu array'in içindeki bütün elemanları hem yavaş yol olan for döngüsüyle hem de daha hızlı yol olan uygun NumPy metoduyla tek tek dönerek ekrana yazdırın.\n"
      ],
      "metadata": {
        "id": "xCd-y_pLpAn5"
      }
    },
    {
      "cell_type": "code",
      "source": [
        "arr41 = np.arange(4).reshape(2,2)\n",
        "arr41"
      ],
      "metadata": {
        "id": "6Go4FXrOpCO7",
        "colab": {
          "base_uri": "https://localhost:8080/"
        },
        "outputId": "44cf8c24-f7a9-443b-8242-633d61bd068e"
      },
      "execution_count": 15,
      "outputs": [
        {
          "output_type": "execute_result",
          "data": {
            "text/plain": [
              "array([[0, 1],\n",
              "       [2, 3]])"
            ]
          },
          "metadata": {},
          "execution_count": 15
        }
      ]
    },
    {
      "cell_type": "code",
      "source": [
        "for i in arr41:\n",
        "  for x in i:\n",
        "    print(x)"
      ],
      "metadata": {
        "colab": {
          "base_uri": "https://localhost:8080/"
        },
        "id": "Qhq882HYC1Z9",
        "outputId": "3a122be2-a8ca-45aa-d30e-2e87ce824b54"
      },
      "execution_count": 18,
      "outputs": [
        {
          "output_type": "stream",
          "name": "stdout",
          "text": [
            "0\n",
            "1\n",
            "2\n",
            "3\n"
          ]
        }
      ]
    },
    {
      "cell_type": "code",
      "source": [
        "for i in np.nditer(arr41):\n",
        "  print(i)"
      ],
      "metadata": {
        "colab": {
          "base_uri": "https://localhost:8080/"
        },
        "id": "QFmb7m4OC8cN",
        "outputId": "775abf30-7442-4f0e-e751-4be60a345d3c"
      },
      "execution_count": 16,
      "outputs": [
        {
          "output_type": "stream",
          "name": "stdout",
          "text": [
            "0\n",
            "1\n",
            "2\n",
            "3\n"
          ]
        }
      ]
    },
    {
      "cell_type": "markdown",
      "source": [
        "5) 5,10,15,20,25,30 değerlerinden oluşan bir boyutlu bir array ve\n",
        "   1,2,3,4,5,6 değerlerinden oluşan başka bir boyutlu bir array oluşturun.\n",
        "   Bu arraylerinin elemanlarına kendi aralarında 4 işlem uygulayın. İki arrayinde 1.indexindekiler toplansın/çıkartılsın/çarpılsın/bölünsün gibi."
      ],
      "metadata": {
        "id": "CpuKI62OpCUy"
      }
    },
    {
      "cell_type": "code",
      "source": [
        "arr51 = np.array([5,10,15,20,25,30])\n",
        "arr52 = np.array([1,2,3,4,5,6])\n",
        "print(f\"Toplama: {arr51[1] + arr52[2]}\")\n",
        "print(f\"Çıkarma: {arr51[1] - arr52[2]}\")\n",
        "print(f\"Çarpma: {arr51[1] * arr52[2]}\")\n",
        "print(f\"Bölme: {arr51[1] / arr52[2]}\")"
      ],
      "metadata": {
        "colab": {
          "base_uri": "https://localhost:8080/"
        },
        "id": "6Ixq_ohUpGJo",
        "outputId": "31030574-2c83-450f-b9c2-9a4531029efa"
      },
      "execution_count": null,
      "outputs": [
        {
          "output_type": "stream",
          "name": "stdout",
          "text": [
            "Toplama: 13\n",
            "Çıkarma: 7\n",
            "Çarpma: 30\n",
            "Bölme: 3.3333333333333335\n"
          ]
        }
      ]
    },
    {
      "cell_type": "markdown",
      "source": [
        "6) 0-100 arası rastgele 10 tam sayıdan oluşan bir array oluşturun ve oluşturulan arrayin sum/mean/max/var/std değerlerini inceleyin.\n"
      ],
      "metadata": {
        "id": "T19_-9bgpGQp"
      }
    },
    {
      "cell_type": "code",
      "source": [
        "arr61 = np.random.randint(0,101,10)\n",
        "print(arr61)\n",
        "print(arr61.sum())\n",
        "print(arr61.mean())\n",
        "print(arr61.max())\n",
        "print(arr61.var())\n",
        "print(arr61.std())"
      ],
      "metadata": {
        "id": "pLf1geCIpIF4",
        "colab": {
          "base_uri": "https://localhost:8080/"
        },
        "outputId": "675b2aaa-ac2c-4394-a2d2-9838badcd4e0"
      },
      "execution_count": 21,
      "outputs": [
        {
          "output_type": "stream",
          "name": "stdout",
          "text": [
            "[83 41 42 76 24 20 77 49 94 15]\n",
            "521\n",
            "52.1\n",
            "94\n",
            "733.29\n",
            "27.079327908941906\n"
          ]
        }
      ]
    },
    {
      "cell_type": "markdown",
      "source": [
        "7) 0-20 arası(20 dahil değil) tam sayılardan oluşan ve 500-530(530 dahil) arası tam sayılardan oluşan 2 array oluşturun. Ardından bu iki array'i concatenate ederek ekrana yazdırın.\n"
      ],
      "metadata": {
        "id": "2X-nvdYMpILy"
      }
    },
    {
      "cell_type": "code",
      "source": [
        "arr71 = np.arange(20)\n",
        "arr72 = np.arange(500,531)\n",
        "np.concatenate([arr71,arr72])"
      ],
      "metadata": {
        "id": "B2bQRdy_paja",
        "colab": {
          "base_uri": "https://localhost:8080/"
        },
        "outputId": "b28e6ab4-2f97-4bc4-94f5-f995e6e96a7b"
      },
      "execution_count": 22,
      "outputs": [
        {
          "output_type": "execute_result",
          "data": {
            "text/plain": [
              "array([  0,   1,   2,   3,   4,   5,   6,   7,   8,   9,  10,  11,  12,\n",
              "        13,  14,  15,  16,  17,  18,  19, 500, 501, 502, 503, 504, 505,\n",
              "       506, 507, 508, 509, 510, 511, 512, 513, 514, 515, 516, 517, 518,\n",
              "       519, 520, 521, 522, 523, 524, 525, 526, 527, 528, 529, 530])"
            ]
          },
          "metadata": {},
          "execution_count": 22
        }
      ]
    },
    {
      "cell_type": "markdown",
      "source": [
        "8) 15-50(50 dahil) arası tam sayılardan oluşan bir array oluşturun. Daha sonra 10-100 arası(100 dahil) tam sayılardan oluşan 2.bir array oluşturun. Bu 2 arrayi concatanate ederek 3.bir array oluşturun ve bu array'in 25.index ile 50.index'i(50 dahil) arasındaki değerlerini 888 yapın.\n"
      ],
      "metadata": {
        "id": "ALnzwdnxpan5"
      }
    },
    {
      "cell_type": "code",
      "source": [
        "arr81 = np.arange(15,51)\n",
        "arr82 = np.arange(10,101)\n",
        "arr83 = np.concatenate([arr81,arr82])\n",
        "arr81[25:51] = 888\n",
        "arr81"
      ],
      "metadata": {
        "id": "GYaPKvSQpbzZ",
        "colab": {
          "base_uri": "https://localhost:8080/"
        },
        "outputId": "c7227330-b828-4e76-ac3f-4d5815e1c871"
      },
      "execution_count": 24,
      "outputs": [
        {
          "output_type": "execute_result",
          "data": {
            "text/plain": [
              "array([ 15,  16,  17,  18,  19,  20,  21,  22,  23,  24,  25,  26,  27,\n",
              "        28,  29,  30,  31,  32,  33,  34,  35,  36,  37,  38,  39, 888,\n",
              "       888, 888, 888, 888, 888, 888, 888, 888, 888, 888])"
            ]
          },
          "metadata": {},
          "execution_count": 24
        }
      ]
    },
    {
      "cell_type": "markdown",
      "source": [
        "9) 0-40(40 dahil değil) arası değerlerden oluşan (8,5) shape'inde 2 boyutlu bir array ve  320-360(360 dahil değil) değerlerinden oluşan (8,5) shape'inde 2 boyutlubaşka bir array oluşturun. Devamında bu iki array'i hem axis = 0'da hem de axis = 1'de concatenate ederek farkı karşılaştırın.\n"
      ],
      "metadata": {
        "id": "x9-Lxz96pb4N"
      }
    },
    {
      "cell_type": "code",
      "source": [
        "arr91 = np.arange(0,40).reshape(8,5)\n",
        "arr92 = np.arange(320,360).reshape(8,5)"
      ],
      "metadata": {
        "id": "RgYv3X4GpdNB"
      },
      "execution_count": 26,
      "outputs": []
    },
    {
      "cell_type": "code",
      "source": [
        "np.concatenate([arr91,arr92], axis = 1)"
      ],
      "metadata": {
        "colab": {
          "base_uri": "https://localhost:8080/"
        },
        "id": "VIIomDsFGJK1",
        "outputId": "b20c6141-c160-4ac9-a60b-f8e643d4838d"
      },
      "execution_count": 28,
      "outputs": [
        {
          "output_type": "execute_result",
          "data": {
            "text/plain": [
              "array([[  0,   1,   2,   3,   4, 320, 321, 322, 323, 324],\n",
              "       [  5,   6,   7,   8,   9, 325, 326, 327, 328, 329],\n",
              "       [ 10,  11,  12,  13,  14, 330, 331, 332, 333, 334],\n",
              "       [ 15,  16,  17,  18,  19, 335, 336, 337, 338, 339],\n",
              "       [ 20,  21,  22,  23,  24, 340, 341, 342, 343, 344],\n",
              "       [ 25,  26,  27,  28,  29, 345, 346, 347, 348, 349],\n",
              "       [ 30,  31,  32,  33,  34, 350, 351, 352, 353, 354],\n",
              "       [ 35,  36,  37,  38,  39, 355, 356, 357, 358, 359]])"
            ]
          },
          "metadata": {},
          "execution_count": 28
        }
      ]
    },
    {
      "cell_type": "code",
      "source": [
        "np.concatenate([arr91,arr92], axis = 0)"
      ],
      "metadata": {
        "colab": {
          "base_uri": "https://localhost:8080/"
        },
        "id": "VNo-2WN9GJfE",
        "outputId": "de8d6b46-d1e2-49d0-a518-6993d7032e76"
      },
      "execution_count": 29,
      "outputs": [
        {
          "output_type": "execute_result",
          "data": {
            "text/plain": [
              "array([[  0,   1,   2,   3,   4],\n",
              "       [  5,   6,   7,   8,   9],\n",
              "       [ 10,  11,  12,  13,  14],\n",
              "       [ 15,  16,  17,  18,  19],\n",
              "       [ 20,  21,  22,  23,  24],\n",
              "       [ 25,  26,  27,  28,  29],\n",
              "       [ 30,  31,  32,  33,  34],\n",
              "       [ 35,  36,  37,  38,  39],\n",
              "       [320, 321, 322, 323, 324],\n",
              "       [325, 326, 327, 328, 329],\n",
              "       [330, 331, 332, 333, 334],\n",
              "       [335, 336, 337, 338, 339],\n",
              "       [340, 341, 342, 343, 344],\n",
              "       [345, 346, 347, 348, 349],\n",
              "       [350, 351, 352, 353, 354],\n",
              "       [355, 356, 357, 358, 359]])"
            ]
          },
          "metadata": {},
          "execution_count": 29
        }
      ]
    },
    {
      "cell_type": "markdown",
      "source": [
        "10) 9.Soruda oluşturduğunuz 2 array'i axis = 2'de concatenate etmeye çalışın. Ardından axis = 2'de stacklemeye(yığınlamaya) çalışın. İkisi arasındaki farkı karşılaştırın.\n"
      ],
      "metadata": {
        "id": "f0FNem8ipdRQ"
      }
    },
    {
      "cell_type": "code",
      "source": [
        "np.concatenate([arr91,arr92],axis=2)"
      ],
      "metadata": {
        "id": "guXwROqSpeYS",
        "colab": {
          "base_uri": "https://localhost:8080/",
          "height": 200
        },
        "outputId": "9b9cf0cd-bbc0-4cc8-f304-cc4d0f8b4921"
      },
      "execution_count": 30,
      "outputs": [
        {
          "output_type": "error",
          "ename": "AxisError",
          "evalue": "ignored",
          "traceback": [
            "\u001b[0;31m---------------------------------------------------------------------------\u001b[0m",
            "\u001b[0;31mAxisError\u001b[0m                                 Traceback (most recent call last)",
            "\u001b[0;32m<ipython-input-30-79667b4d9f38>\u001b[0m in \u001b[0;36m<module>\u001b[0;34m\u001b[0m\n\u001b[0;32m----> 1\u001b[0;31m \u001b[0mnp\u001b[0m\u001b[0;34m.\u001b[0m\u001b[0mconcatenate\u001b[0m\u001b[0;34m(\u001b[0m\u001b[0;34m[\u001b[0m\u001b[0marr91\u001b[0m\u001b[0;34m,\u001b[0m\u001b[0marr92\u001b[0m\u001b[0;34m]\u001b[0m\u001b[0;34m,\u001b[0m\u001b[0maxis\u001b[0m\u001b[0;34m=\u001b[0m\u001b[0;36m2\u001b[0m\u001b[0;34m)\u001b[0m\u001b[0;34m\u001b[0m\u001b[0;34m\u001b[0m\u001b[0m\n\u001b[0m",
            "\u001b[0;32m/usr/local/lib/python3.9/dist-packages/numpy/core/overrides.py\u001b[0m in \u001b[0;36mconcatenate\u001b[0;34m(*args, **kwargs)\u001b[0m\n",
            "\u001b[0;31mAxisError\u001b[0m: axis 2 is out of bounds for array of dimension 2"
          ]
        }
      ]
    },
    {
      "cell_type": "code",
      "source": [
        "np.stack([arr91,arr92],axis=2)"
      ],
      "metadata": {
        "colab": {
          "base_uri": "https://localhost:8080/"
        },
        "id": "5n1luZS2HuLd",
        "outputId": "75684fe1-a993-472d-9649-172f5258f497"
      },
      "execution_count": 31,
      "outputs": [
        {
          "output_type": "execute_result",
          "data": {
            "text/plain": [
              "array([[[  0, 320],\n",
              "        [  1, 321],\n",
              "        [  2, 322],\n",
              "        [  3, 323],\n",
              "        [  4, 324]],\n",
              "\n",
              "       [[  5, 325],\n",
              "        [  6, 326],\n",
              "        [  7, 327],\n",
              "        [  8, 328],\n",
              "        [  9, 329]],\n",
              "\n",
              "       [[ 10, 330],\n",
              "        [ 11, 331],\n",
              "        [ 12, 332],\n",
              "        [ 13, 333],\n",
              "        [ 14, 334]],\n",
              "\n",
              "       [[ 15, 335],\n",
              "        [ 16, 336],\n",
              "        [ 17, 337],\n",
              "        [ 18, 338],\n",
              "        [ 19, 339]],\n",
              "\n",
              "       [[ 20, 340],\n",
              "        [ 21, 341],\n",
              "        [ 22, 342],\n",
              "        [ 23, 343],\n",
              "        [ 24, 344]],\n",
              "\n",
              "       [[ 25, 345],\n",
              "        [ 26, 346],\n",
              "        [ 27, 347],\n",
              "        [ 28, 348],\n",
              "        [ 29, 349]],\n",
              "\n",
              "       [[ 30, 350],\n",
              "        [ 31, 351],\n",
              "        [ 32, 352],\n",
              "        [ 33, 353],\n",
              "        [ 34, 354]],\n",
              "\n",
              "       [[ 35, 355],\n",
              "        [ 36, 356],\n",
              "        [ 37, 357],\n",
              "        [ 38, 358],\n",
              "        [ 39, 359]]])"
            ]
          },
          "metadata": {},
          "execution_count": 31
        }
      ]
    },
    {
      "cell_type": "markdown",
      "source": [
        "11) [1, 20, 25, 4, 4, 5, 4, 4, 1, 6, 9, 12, 1, 5] değerlerinden oluşan bir boyutlu bir array oluşturun. Devamında bu array'in içinde değeri 5'e eşit olan değerlerin indexleri bulun.\n"
      ],
      "metadata": {
        "id": "dtZoorMBpech"
      }
    },
    {
      "cell_type": "code",
      "source": [
        "arr111 = np.array([1,20,25,4,4,5,4,4,1,6,9,12,1,5])\n",
        "np.where(arr111 == 5)"
      ],
      "metadata": {
        "id": "Lk5CuZlfpfsK",
        "colab": {
          "base_uri": "https://localhost:8080/"
        },
        "outputId": "719deb79-8170-486e-aff9-14d79fadd100"
      },
      "execution_count": 36,
      "outputs": [
        {
          "output_type": "execute_result",
          "data": {
            "text/plain": [
              "(array([ 5, 13]),)"
            ]
          },
          "metadata": {},
          "execution_count": 36
        }
      ]
    },
    {
      "cell_type": "markdown",
      "source": [
        "12) Yukarıda oluşturduğunuz array içinde değeri çift olan değerlerin indexlerini bulun.\n"
      ],
      "metadata": {
        "id": "7ErzymDEpfxA"
      }
    },
    {
      "cell_type": "code",
      "source": [
        "np.where(arr111 % 2 == 0)"
      ],
      "metadata": {
        "id": "rbxIhBJTpg8A",
        "colab": {
          "base_uri": "https://localhost:8080/"
        },
        "outputId": "2dda6920-3e4f-4f76-e928-c778d99858ee"
      },
      "execution_count": 39,
      "outputs": [
        {
          "output_type": "execute_result",
          "data": {
            "text/plain": [
              "(array([ 1,  3,  4,  6,  7,  9, 11]),)"
            ]
          },
          "metadata": {},
          "execution_count": 39
        }
      ]
    },
    {
      "cell_type": "markdown",
      "source": [
        "13) Yukarıda oluşturduğunuz array içinde değeri 4'den büyük olan değerlerin indexlerini bulun.\n"
      ],
      "metadata": {
        "id": "PE2Y9NKdphBB"
      }
    },
    {
      "cell_type": "code",
      "source": [
        "np.where(arr111 > 4)"
      ],
      "metadata": {
        "id": "pCcyrg-2ph8a",
        "colab": {
          "base_uri": "https://localhost:8080/"
        },
        "outputId": "18d3d1c6-ff1a-4bdf-806a-6396beecdbf4"
      },
      "execution_count": 40,
      "outputs": [
        {
          "output_type": "execute_result",
          "data": {
            "text/plain": [
              "(array([ 1,  2,  5,  9, 10, 11, 13]),)"
            ]
          },
          "metadata": {},
          "execution_count": 40
        }
      ]
    },
    {
      "cell_type": "markdown",
      "source": [
        "14) Yukarıda oluşturduğunuz array içinde değeri 5'e tam bölünen değerlerin indexlerini bulun.\n"
      ],
      "metadata": {
        "id": "HUhIek4HpiAj"
      }
    },
    {
      "cell_type": "code",
      "source": [
        "np.where(arr111 % 5 == 0)"
      ],
      "metadata": {
        "id": "jx9gHiCzpi8g",
        "colab": {
          "base_uri": "https://localhost:8080/"
        },
        "outputId": "0d762527-7ad1-4e46-bd3c-7c49aba8f26f"
      },
      "execution_count": 41,
      "outputs": [
        {
          "output_type": "execute_result",
          "data": {
            "text/plain": [
              "(array([ 1,  2,  5, 13]),)"
            ]
          },
          "metadata": {},
          "execution_count": 41
        }
      ]
    },
    {
      "cell_type": "markdown",
      "source": [
        "15) 85-100(100 dahil) arasından rastgele 1 tam sayı seçin\n"
      ],
      "metadata": {
        "id": "d5lEbefupjBK"
      }
    },
    {
      "cell_type": "code",
      "source": [
        "arr151 = np.arange(85,101)\n",
        "print(arr151)\n",
        "np.random.choice(arr151)"
      ],
      "metadata": {
        "id": "I7VEyJynpj-g",
        "colab": {
          "base_uri": "https://localhost:8080/"
        },
        "outputId": "d1161eca-b466-4fc1-b308-bca7d0d9948d"
      },
      "execution_count": 43,
      "outputs": [
        {
          "output_type": "stream",
          "name": "stdout",
          "text": [
            "[ 85  86  87  88  89  90  91  92  93  94  95  96  97  98  99 100]\n"
          ]
        },
        {
          "output_type": "execute_result",
          "data": {
            "text/plain": [
              "93"
            ]
          },
          "metadata": {},
          "execution_count": 43
        }
      ]
    },
    {
      "cell_type": "markdown",
      "source": [
        "16) İki basamaklı tam sayılar arasından rastgele sayılar seçerek (3,3) shape'inde bir array oluşturun.\n"
      ],
      "metadata": {
        "id": "4AtDkTHvpkCo"
      }
    },
    {
      "cell_type": "code",
      "source": [
        "np.random.randint(10,100,9).reshape(3,3)"
      ],
      "metadata": {
        "id": "n9zpjPj_pk6x",
        "colab": {
          "base_uri": "https://localhost:8080/"
        },
        "outputId": "25a58690-4bad-430b-c95a-27ff904c23d9"
      },
      "execution_count": 45,
      "outputs": [
        {
          "output_type": "execute_result",
          "data": {
            "text/plain": [
              "array([[99, 88, 19],\n",
              "       [46, 22, 91],\n",
              "       [70, 36, 57]])"
            ]
          },
          "metadata": {},
          "execution_count": 45
        }
      ]
    },
    {
      "cell_type": "markdown",
      "source": [
        "17) 35-60 arasındaki tam sayılardan bir array oluşturun, ardından bu array içinden rastgele 1 tam sayı seçin.\n"
      ],
      "metadata": {
        "id": "7OZylOAXpk_A"
      }
    },
    {
      "cell_type": "code",
      "source": [
        "arr171 = np.arange(35,60)\n",
        "np.random.choice(arr171)"
      ],
      "metadata": {
        "id": "q7s_W6zRpl9Q",
        "colab": {
          "base_uri": "https://localhost:8080/"
        },
        "outputId": "32576490-a3ef-4209-d376-095a142223e5"
      },
      "execution_count": 46,
      "outputs": [
        {
          "output_type": "execute_result",
          "data": {
            "text/plain": [
              "39"
            ]
          },
          "metadata": {},
          "execution_count": 46
        }
      ]
    },
    {
      "cell_type": "markdown",
      "source": [
        "18) Sadece [3, 8, 10, 53] değerlerinden oluşan (2,5) shape'inde 2 boyutlu bir array oluşturun.\n"
      ],
      "metadata": {
        "id": "s_cIZc7WpmCL"
      }
    },
    {
      "cell_type": "code",
      "source": [
        "arr181 = np.array([]) \n",
        "for i in range(10):\n",
        "  arr181 = np.append(arr181,np.random.choice([3,8,10,53]))\n",
        "arr181 = arr181.astype(\"int\")\n",
        "arr181.reshape(2,5)"
      ],
      "metadata": {
        "id": "u2T9i_xFpm6B",
        "colab": {
          "base_uri": "https://localhost:8080/"
        },
        "outputId": "96e472de-b751-4ecd-c712-a02585c69561"
      },
      "execution_count": 76,
      "outputs": [
        {
          "output_type": "execute_result",
          "data": {
            "text/plain": [
              "array([[ 3, 53,  8,  8, 10],\n",
              "       [ 3,  3, 53, 10,  8]])"
            ]
          },
          "metadata": {},
          "execution_count": 76
        }
      ]
    }
  ]
}